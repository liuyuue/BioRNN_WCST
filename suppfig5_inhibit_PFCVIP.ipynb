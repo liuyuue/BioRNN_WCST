{
 "cells": [
  {
   "cell_type": "code",
   "execution_count": 3,
   "metadata": {},
   "outputs": [
    {
     "name": "stdout",
     "output_type": "stream",
     "text": [
      "1.13.1+cu116\n",
      "3.10.8 (main, Nov 24 2022, 14:13:03) [GCC 11.2.0]\n"
     ]
    }
   ],
   "source": [
    "%load_ext autoreload\n",
    "%autoreload 2\n",
    "import numpy as np; np.set_printoptions(precision=4); np.random.seed(0)\n",
    "import torch; torch.set_printoptions(precision=4)\n",
    "seed = 1\n",
    "\n",
    "torch.manual_seed(seed)\n",
    "import torch.nn as nn\n",
    "import matplotlib.pyplot as plt; plt.rc('font', size=12); \n",
    "import matplotlib \n",
    "from matplotlib.font_manager import FontProperties\n",
    "from mpl_toolkits import mplot3d\n",
    "import matplotlib.pylab as pl\n",
    "import seaborn as sns\n",
    "import time\n",
    "import sys\n",
    "import itertools\n",
    "import random; random.seed(0)\n",
    "import scipy\n",
    "import os\n",
    "import warnings\n",
    "\n",
    "from textwrap import wrap\n",
    "from scipy.stats import wilcoxon\n",
    "from sklearn.metrics.pairwise import cosine_similarity\n",
    "\n",
    "from functions import *\n",
    "\n",
    "print(torch.__version__)\n",
    "print(sys.version)\n",
    "                \n",
    "%matplotlib inline\n",
    "\n",
    "torch.backends.cudnn.benchmark = False\n",
    "torch.use_deterministic_algorithms(True) \n",
    "torch.backends.cudnn.deterministic = True    "
   ]
  },
  {
   "cell_type": "code",
   "execution_count": null,
   "metadata": {},
   "outputs": [],
   "source": [
    "with open('/.../perf_inhibit_pfcvip.pickle', 'rb') as handle:\n",
    "    all_data_opto_perf = pickle.load(handle)\n",
    "    \n",
    "data_suppfig5f_inhibitpfcvip = {'intact': [], 'inhibit_pfcvip': []}\n",
    "\n",
    "perf_intact = [data['mean_perf_intact'] for data in all_data_opto_perf]\n",
    "perf_inhibit_pfcvip = [data['mean_perf_inhibit_pfcvip'] for data in all_data_opto_perf]\n",
    "\n",
    "fig, ax = plt.subplots(1, 1, figsize=[3.5, 5])\n",
    "plt.style.use('classic')\n",
    "fig.patch.set_facecolor('white')\n",
    "ax.plot([perf_intact, perf_inhibit_pfcvip], color='k', alpha=0.5, marker='o')\n",
    "ax.set_xticks([0, 1])\n",
    "ctype='PFC VIP'\n",
    "ax.set_xticklabels(['Intact', 'Opto {}'.format(ctype)], rotation=20)\n",
    "ax.set_xlim([-0.5, 1.5])\n",
    "ax.set_ylim([0, 1])\n",
    "ax.axhline(y=1/3, linestyle='dashed', color='k')\n",
    "ax.set_ylabel('Performance', fontsize=20)\n",
    "make_pretty_axes(ax)\n",
    "fig.tight_layout()\n",
    "plt.show()\n",
    "\n",
    "# statistical test\n",
    "ttest = stats.ttest_ind(perf_intact, perf_inhibit_pfcvip, alternative='greater')\n",
    "print('student t test, {}, p={}, n={}'.format(ttest[0], ttest[1], len(perf_intact)))\n",
    "\n",
    "# source data\n",
    "data_suppfig5f_inhibitpfcvip['intact'] = perf_intact\n",
    "data_suppfig5f_inhibitpfcvip['inhibit_pfcvip'] = perf_inhibit_pfcvip\n",
    "    "
   ]
  },
  {
   "cell_type": "code",
   "execution_count": null,
   "metadata": {},
   "outputs": [],
   "source": []
  }
 ],
 "metadata": {
  "kernelspec": {
   "display_name": "my_env",
   "language": "python",
   "name": "my_env"
  },
  "language_info": {
   "codemirror_mode": {
    "name": "ipython",
    "version": 3
   },
   "file_extension": ".py",
   "mimetype": "text/x-python",
   "name": "python",
   "nbconvert_exporter": "python",
   "pygments_lexer": "ipython3",
   "version": "3.10.8"
  }
 },
 "nbformat": 4,
 "nbformat_minor": 4
}
