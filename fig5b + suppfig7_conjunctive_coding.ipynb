{
 "cells": [
  {
   "cell_type": "code",
   "execution_count": 1,
   "metadata": {},
   "outputs": [
    {
     "name": "stdout",
     "output_type": "stream",
     "text": [
      "1.13.1+cu116\n",
      "3.10.8 (main, Nov 24 2022, 14:13:03) [GCC 11.2.0]\n"
     ]
    }
   ],
   "source": [
    "%load_ext autoreload\n",
    "%autoreload 2\n",
    "\n",
    "import numpy as np; np.set_printoptions(precision=4); np.random.seed(0)\n",
    "import torch; torch.set_printoptions(precision=4)\n",
    "seed = 1\n",
    "\n",
    "torch.manual_seed(seed)\n",
    "import torch.nn as nn\n",
    "import matplotlib.pyplot as plt; plt.rc('font', size=12)\n",
    "import matplotlib \n",
    "from matplotlib.font_manager import FontProperties\n",
    "from mpl_toolkits import mplot3d\n",
    "import matplotlib.pylab as pl\n",
    "import seaborn as sns\n",
    "import time\n",
    "import sys\n",
    "import itertools\n",
    "import random; random.seed(0)\n",
    "import scipy\n",
    "import os\n",
    "from textwrap import wrap\n",
    "from scipy.stats import wilcoxon\n",
    "\n",
    "\n",
    "from functions import *\n",
    "\n",
    "print(torch.__version__)\n",
    "print(sys.version)\n",
    "                \n",
    "%matplotlib inline\n",
    "\n",
    "torch.backends.cudnn.benchmark = False\n",
    "torch.use_deterministic_algorithms(True) \n",
    "torch.backends.cudnn.deterministic = True    "
   ]
  },
  {
   "cell_type": "markdown",
   "metadata": {},
   "source": [
    "# Supplementary Figure 7a: Joint distribution of selectivity indices for different task variables"
   ]
  },
  {
   "cell_type": "code",
   "execution_count": null,
   "metadata": {
    "scrolled": true
   },
   "outputs": [],
   "source": [
    "# rule selectivity distribution \n",
    "with open('/.../rule_selectivity_distribution.pickle', 'rb') as handle:\n",
    "    all_data_sm_rule_resp_sel = pickle.load(handle)\n",
    "cgs = model.rnn.cell_group_list\n",
    "\n",
    "rule_sel_across_models = {}\n",
    "for cg in cgs:\n",
    "    rule_sel_across_models[cg] = []\n",
    "for x in all_data_sm_rule_resp_sel: \n",
    "    for cg in cgs:\n",
    "        rule_sels = [x['all_sels']['rule_normalized_activity'][n] for n in model.rnn.cg_idx[cg]]\n",
    "        rule_sel_across_models[cg].extend(rule_sels)\n",
    "    fig.tight_layout()\n",
    "    plt.show()\n",
    "\n",
    "\n",
    "for cg in cgs:\n",
    "    fig, ax=plt.subplots(1, 1, figsize=[4, 2.5])\n",
    "    fig.patch.set_facecolor('white')\n",
    "    fig.suptitle('Across all models, {}'.format(cg))\n",
    "    ax.set_title(cg)\n",
    "    ax.hist(rule_sel_across_models[cg], color='k', bins=20)\n",
    "    make_pretty_axes(ax)\n",
    "    fig.tight_layout()\n",
    "    plt.show()\n",
    "    fig.savefig('/home/yl4317/Documents/two_module_rnn/figs/rule_sel_dist_{}.pdf'.format(cg))"
   ]
  },
  {
   "cell_type": "markdown",
   "metadata": {},
   "source": [
    "# Figure 5b joint distribution of rule, response and shared feature selectivity"
   ]
  },
  {
   "cell_type": "code",
   "execution_count": null,
   "metadata": {},
   "outputs": [],
   "source": [
    "# rule selectivity x response selectivity x feature selectivity across all models\n",
    "\n",
    "rule_sel_all = []\n",
    "resp_sel_all = []\n",
    "feature_sel_all = []\n",
    "\n",
    "cg_idx = model.rnn.cg_idx['sr_esoma'].tolist() + model.rnn.cg_idx['sr_pv'].tolist() + model.rnn.cg_idx['sr_sst'].tolist() + model.rnn.cg_idx['sr_vip'].tolist()\n",
    "\n",
    "for x in all_data_sm_rule_resp_sel:\n",
    "    rule_sel_all.extend(x['all_sels']['rule_normalized_activity'][n] for n in cg_idx)\n",
    "    resp_sel_all.extend(x['all_sels']['resp_normalized'][n]['max'] for n in cg_idx)\n",
    "    feature_sel_all.extend(x['all_sels']['common_feature'][n] for n in cg_idx)\n",
    "\n",
    "\n",
    "fig = plt.figure()\n",
    "ax = fig.add_subplot(projection='3d')\n",
    "fig.patch.set_facecolor('white')\n",
    "ax.scatter(xs=np.array(rule_sel_all), ys=np.array(resp_sel_all), zs=np.array(feature_sel_all), color='k')  \n",
    "ax.set_xlabel('Rule selectivity')\n",
    "ax.set_ylabel('Response selectivity')\n",
    "ax.set_zlabel('Shared feature selectivity')\n",
    "ax.set_xlim([-1, 1])\n",
    "ax.set_ylim([0, 1])\n",
    "ax.set_zlim([-1, 1])\n",
    "make_pretty_axes(ax)\n",
    "fig.tight_layout()\n",
    "plt.show()\n",
    "\n"
   ]
  }
 ],
 "metadata": {
  "kernelspec": {
   "display_name": "my_env",
   "language": "python",
   "name": "my_env"
  },
  "language_info": {
   "codemirror_mode": {
    "name": "ipython",
    "version": 3
   },
   "file_extension": ".py",
   "mimetype": "text/x-python",
   "name": "python",
   "nbconvert_exporter": "python",
   "pygments_lexer": "ipython3",
   "version": "3.10.8"
  }
 },
 "nbformat": 4,
 "nbformat_minor": 4
}
