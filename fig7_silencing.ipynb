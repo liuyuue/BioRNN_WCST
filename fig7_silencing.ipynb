{
 "cells": [
  {
   "cell_type": "code",
   "execution_count": null,
   "id": "aa92bc80-0e7b-43f4-9b4b-a85a1f2d21b3",
   "metadata": {},
   "outputs": [],
   "source": [
    "%load_ext autoreload\n",
    "%autoreload 2\n",
    "import numpy as np; np.set_printoptions(precision=4); np.random.seed(0)\n",
    "import torch; torch.set_printoptions(precision=4)\n",
    "seed = 1\n",
    "\n",
    "torch.manual_seed(seed)\n",
    "import torch.nn as nn\n",
    "import matplotlib.pyplot as plt; plt.rc('font', size=12); \n",
    "import matplotlib \n",
    "from matplotlib.font_manager import FontProperties\n",
    "from mpl_toolkits import mplot3d\n",
    "import matplotlib.pylab as pl\n",
    "import seaborn as sns\n",
    "import time\n",
    "import sys\n",
    "import itertools\n",
    "import random; random.seed(0)\n",
    "import scipy\n",
    "import os\n",
    "import warnings\n",
    "\n",
    "from textwrap import wrap\n",
    "from scipy.stats import wilcoxon\n",
    "from sklearn.metrics.pairwise import cosine_similarity\n",
    "\n",
    "\n",
    "from functions import *\n",
    "\n",
    "print(torch.__version__)\n",
    "print(sys.version)\n",
    "                \n",
    "%matplotlib inline\n",
    "\n",
    "torch.backends.cudnn.benchmark = False\n",
    "torch.use_deterministic_algorithms(True) \n",
    "torch.backends.cudnn.deterministic = True    "
   ]
  },
  {
   "cell_type": "markdown",
   "id": "5b27fc04-ca35-49b6-a625-7992ca59eee5",
   "metadata": {},
   "source": [
    "# Figure 7e and Supplementary figure 11b: performance after silencing SST"
   ]
  },
  {
   "cell_type": "code",
   "execution_count": null,
   "id": "e30e6fe9-b217-4517-b1d1-eee75d9093b5",
   "metadata": {
    "scrolled": true
   },
   "outputs": [],
   "source": [
    "with open('/.../silencing_perf.pickle', 'rb') as handle:\n",
    "    all_data_opto_perf = pickle.load(handle)\n",
    "\n",
    "\n",
    "data_fig7e = {'intact': [], 'silence_sst': []}\n",
    "data_suppfig11b = {'intact': [], 'silence_sst': []}\n",
    "\n",
    "for dend_nonlinear in ['subtractive', 'divisive_2']:\n",
    "    print(dend_nonlinear)\n",
    "    fig, ax = plt.subplots(1, 1, figsize=[3.5, 5])\n",
    "    plt.style.use('classic')\n",
    "    fig.patch.set_facecolor('white')\n",
    "    for data in all_data_opto_perf:\n",
    "        if data['hp']['dend_nonlinearity']!=dend_nonlinear:\n",
    "            continue\n",
    "        perf_intact = data['mean_perf_intact']\n",
    "        perf_nosst = data['mean_perf_nosst']\n",
    "        ax.plot([perf_intact, perf_nosst], color='k', alpha=0.5, marker='o')\n",
    "        \n",
    "        if data['hp']['dend_nonlinearity'] == 'subtractive':\n",
    "            data_fig7e['intact'].append(perf_intact)\n",
    "            data_fig7e['silence_sst'].append(perf_nosst)\n",
    "        elif data['hp']['dend_nonlinearity'] == 'divisive_2':\n",
    "            data_suppfig11b['intact'].append(perf_intact)\n",
    "            data_suppfig11b['silence_sst'].append(perf_nosst)\n",
    "\n",
    "        ax.set_xticks([0, 1])\n",
    "        ax.set_xticklabels(['Intact', 'Silence SST'], rotation=20)\n",
    "        ax.set_xlim([-0.5, 1.5])\n",
    "        ax.set_ylim([0, 1])\n",
    "        ax.axhline(y=1/3, linestyle='dashed', color='k')\n",
    "        ax.set_ylabel('Performance', fontsize=20)\n",
    "        make_pretty_axes(ax)\n",
    "    fig.tight_layout()\n",
    "    plt.show()\n",
    "\n"
   ]
  },
  {
   "cell_type": "markdown",
   "id": "00db6d54-f710-4d81-8cda-3f2b9502fbfe",
   "metadata": {},
   "source": [
    "# Supplementary figure 11: performance after silencing PV and VIP in the sensorimotor module"
   ]
  },
  {
   "cell_type": "code",
   "execution_count": null,
   "id": "efc95191-22e3-45b5-a185-219417964c3d",
   "metadata": {
    "scrolled": true
   },
   "outputs": [],
   "source": [
    "data_silencepv = {'intact': [], 'silence_pv': []}\n",
    "data_silencevip = {'intact': [], 'silence_vip': []}\n",
    "\n",
    "\n",
    "for cell_type in ['pv', 'vip']:\n",
    "    fig, ax = plt.subplots(figsize=[3.5, 5])\n",
    "    plt.style.use('classic')\n",
    "    fig.patch.set_facecolor('white')\n",
    "    for data in all_data_opto_perf:\n",
    "        perf_intact = data['mean_perf_intact']\n",
    "        perf_inactivate = data['mean_perf_no{}'.format(cell_type)]\n",
    "        ax.plot([perf_intact, perf_inactivate], color='k', alpha=0.5, marker='o')\n",
    "        if cell_type == 'pv':\n",
    "            data_silencepv['intact'].append(perf_intact)\n",
    "            data_silencepv['silence_pv'].append(perf_inactivate)\n",
    "        elif cell_type == 'vip':\n",
    "            data_silencevip['intact'].append(perf_intact)\n",
    "            data_silencevip['silence_vip'].append(perf_inactivate)\n",
    "        ax.set_xticks([0, 1])\n",
    "        ax.set_xticklabels(['Intact', 'Silence {}'.format(cell_type)], rotation=20)\n",
    "        ax.set_xlim([-0.5, 1.5])\n",
    "        ax.set_ylim([0, 1])\n",
    "        ax.axhline(y=1/3, linestyle='dashed', color='k')\n",
    "        ax.set_ylabel('Performance', fontsize=20)\n",
    "        make_pretty_axes(ax)\n",
    "        fig.tight_layout()\n",
    "    plt.show()"
   ]
  },
  {
   "cell_type": "code",
   "execution_count": null,
   "id": "07296bab-e769-4f70-b9c1-f48199a1041e",
   "metadata": {},
   "outputs": [],
   "source": []
  }
 ],
 "metadata": {
  "kernelspec": {
   "display_name": "my_env",
   "language": "python",
   "name": "my_env"
  },
  "language_info": {
   "codemirror_mode": {
    "name": "ipython",
    "version": 3
   },
   "file_extension": ".py",
   "mimetype": "text/x-python",
   "name": "python",
   "nbconvert_exporter": "python",
   "pygments_lexer": "ipython3",
   "version": "3.10.8"
  }
 },
 "nbformat": 4,
 "nbformat_minor": 5
}
