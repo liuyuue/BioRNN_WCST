{
 "cells": [
  {
   "cell_type": "markdown",
   "metadata": {},
   "source": [
    "# Figure 2: emergence of two populations of exc neurons in the PFC module"
   ]
  },
  {
   "cell_type": "code",
   "execution_count": null,
   "metadata": {},
   "outputs": [],
   "source": [
    "%load_ext autoreload\n",
    "%autoreload 2\n",
    "\n",
    "import numpy as np; np.set_printoptions(precision=2); np.random.seed(0)\n",
    "import torch; torch.set_printoptions(precision=2)\n",
    "seed = 1\n",
    "\n",
    "torch.manual_seed(seed)\n",
    "import torch.nn as nn\n",
    "import matplotlib.pyplot as plt; plt.rc('font', size=12)\n",
    "import matplotlib \n",
    "from matplotlib.font_manager import FontProperties\n",
    "from mpl_toolkits import mplot3d\n",
    "import matplotlib.pylab as pl\n",
    "\n",
    "import seaborn as sns\n",
    "import time\n",
    "import sys\n",
    "import itertools\n",
    "import random; random.seed(0)\n",
    "import datetime\n",
    "import pickle\n",
    "import copy\n",
    "import pandas as pd\n",
    "import scipy\n",
    "import os\n",
    "\n",
    "from sklearn.cluster import KMeans\n",
    "from sklearn.manifold import MDS\n",
    "from sklearn.decomposition import PCA\n",
    "from sklearn.metrics.pairwise import cosine_similarity\n",
    "\n",
    "import sys\n",
    "from functions import *\n",
    "\n",
    "\n",
    "print(torch.__version__)\n",
    "print(sys.version)\n",
    "                \n",
    "%matplotlib inline"
   ]
  },
  {
   "cell_type": "markdown",
   "metadata": {},
   "source": [
    "## Figure 3b, error input weight x rule modulation, example model"
   ]
  },
  {
   "cell_type": "code",
   "execution_count": null,
   "metadata": {},
   "outputs": [],
   "source": [
    "with open('/.../input_weight_rule_sel_across_models.pickle', 'rb') as handle:\n",
    "    all_data = pickle.load(handle)"
   ]
  },
  {
   "cell_type": "code",
   "execution_count": null,
   "metadata": {
    "scrolled": true
   },
   "outputs": [],
   "source": [
    "data_fig2b = {'type': [], 'w_neg_fdbk': [], 'rule_sel': []}\n",
    "\n",
    "for data in all_data:\n",
    "    print(data['model_name'])\n",
    "    if data['model_name'] != 'success_2023-05-10-14-28-42_wcst_50_sparsity0':\n",
    "        continue\n",
    "    fig, ax = plt.subplots(1, 1, figsize=[6,5])\n",
    "    fig.patch.set_facecolor('white')\n",
    "    plt.style.use('classic')\n",
    "    for n in data['cg_idx']['pfc_edend']:\n",
    "        branch_id = (n-data['cg_idx']['pfc_edend'][0])//len(data['cg_idx']['pfc_esoma'])+1    # this is dendrite number X\n",
    "        soma_id = n-len(data['cg_idx']['pfc_esoma'])*branch_id\n",
    "        w_neg_fdbk = data['w_rew_eff'][1, n]\n",
    "        if soma_id in data['subcg_pfc_idx']['rule1_pfc_esoma'] or soma_id in data['subcg_pfc_idx']['rule2_pfc_esoma']:  \n",
    "            color = 'blue'\n",
    "            type = 'rule_neuron'\n",
    "        elif soma_id in data['subcg_pfc_idx']['mix_err_rule1_pfc_esoma'] or soma_id in data['subcg_pfc_idx']['mix_err_rule2_pfc_esoma']:    # mixed_selective_neurons_id_dend:\n",
    "            color = 'red'\n",
    "            type = 'error_x_rule_neuron'\n",
    "        elif soma_id in data['subcg_pfc_idx']['mix_corr_rule1_pfc_esoma'] or soma_id in data['subcg_pfc_idx']['mix_corr_rule2_pfc_esoma']:    # mixed_selective_neurons_id_dend_correct:\n",
    "            continue\n",
    "        else:\n",
    "            continue\n",
    "            \n",
    "        data_fig2b['type'].append(type)\n",
    "        data_fig2b['w_neg_fdbk'].append(w_neg_fdbk)\n",
    "        data_fig2b['rule_sel'].append(data['rule_sel_unnormalized'][soma_id])\n",
    "        \n",
    "        ax.scatter(x=w_neg_fdbk, y=data['rule_sel_unnormalized'][soma_id], color=color)\n",
    "    ax.set_xlabel('Input weight for negative feedback', fontsize=20)\n",
    "    ax.set_ylabel('Rule modulation', fontsize=20)\n",
    "    make_pretty_axes(ax)\n",
    "    fig.tight_layout()\n",
    "    plt.show()\n",
    "\n"
   ]
  },
  {
   "cell_type": "markdown",
   "metadata": {},
   "source": [
    "## Figure 3c & Supplementary Figure 3: error input weight x rule modulation, across models"
   ]
  },
  {
   "cell_type": "code",
   "execution_count": null,
   "metadata": {
    "scrolled": true
   },
   "outputs": [],
   "source": [
    "start = time.time()\n",
    "\n",
    "data_fig2c = {'type': [], 'w_rew': [], 'rule_sel': []}\n",
    "data_suppfig3 = {'type': [], 'w_rew': [], 'rule_sel': []}\n",
    "\n",
    "for dend_nonlinear in ['subtractive', 'divisive_2']:\n",
    "    # plt.rc('font', size=12)\n",
    "    fig, ax = plt.subplots(1, 1, figsize=[7.5, 6])\n",
    "    fig.suptitle(dend_nonlinear)\n",
    "    fig.patch.set_facecolor('white')\n",
    "    plt.style.use('classic')\n",
    "\n",
    "    # load a sample model (the indices for all models are the same)\n",
    "    model_name = all_data[0]['model_name']\n",
    "    path_to_file = '/scratch/yl4317/two_module_rnn/saved_models/'+model_name\n",
    "    with HiddenPrints():\n",
    "        model, hp_test, hp_task_test, optim, saved_data = load_model_v2(path_to_file=path_to_file, model_name=model_name, simple=False, plot=False, toprint=False)\n",
    "    \n",
    "    for x in all_data:\n",
    "        print(x['model_name'])\n",
    "        if x['hp']['dend_nonlinearity'] != dend_nonlinear:\n",
    "            continue\n",
    "        subcg_pfc_idx = x['subcg_pfc_idx']\n",
    "        w_rew_eff = x['w_rew_eff']\n",
    "        rule_sel = x['rule_sel_unnormalized']\n",
    "        \n",
    "        for n in x['cg_idx']['pfc_edend']:\n",
    "            branch_id = (n-x['cg_idx']['pfc_edend'][0])//len(x['cg_idx']['pfc_esoma'])+1    # this is dendrite number X\n",
    "            soma_id = n-len(x['cg_idx']['pfc_esoma'])*branch_id\n",
    "            if soma_id in subcg_pfc_idx['rule1_pfc_esoma'] or soma_id in subcg_pfc_idx['rule2_pfc_esoma']:  \n",
    "                color = 'blue'\n",
    "                type = 'rule_neuron'\n",
    "            elif soma_id in subcg_pfc_idx['mix_err_rule1_pfc_esoma'] or soma_id in subcg_pfc_idx['mix_err_rule2_pfc_esoma']:    # mixed_selective_neurons_id_dend:\n",
    "                color = 'red' \n",
    "                type = 'error_x_rule_neuron'\n",
    "            elif soma_id in subcg_pfc_idx['mix_corr_rule1_pfc_esoma'] or soma_id in subcg_pfc_idx['mix_corr_rule2_pfc_esoma']:    # mixed_selective_neurons_id_dend_correct:\n",
    "                continue\n",
    "            else:\n",
    "                continue\n",
    "            \n",
    "            if x['hp']['dend_nonlinearity']=='subtractive':\n",
    "                data_fig2c['type'].append(type)\n",
    "                data_fig2c['w_rew'].append(w_rew_eff[1, n])\n",
    "                data_fig2c['rule_sel'].append(rule_sel[soma_id])\n",
    "            if x['hp']['dend_nonlinearity']=='divisive_2':\n",
    "                data_suppfig3['type'].append(type)\n",
    "                data_suppfig3['w_rew'].append(w_rew_eff[1, n])\n",
    "                data_suppfig3['rule_sel'].append(rule_sel[soma_id])\n",
    "    \n",
    "            \n",
    "            ax.scatter(x=w_rew_eff[1, n], y=rule_sel[soma_id], color=color, alpha=0.2)\n",
    "    ax.set_xlabel('Input weight for the negative feedback signal', fontsize=20)\n",
    "    ax.set_ylabel('Rule modulation', fontsize=20)\n",
    "    make_pretty_axes(ax)\n",
    "    fig.tight_layout()\n",
    "    plt.show()\n",
    "    \n",
    "\n",
    "\n",
    "\n",
    "print(time.time()-start)"
   ]
  },
  {
   "cell_type": "markdown",
   "metadata": {},
   "source": [
    "# Supplementary Figure 6: input weight for negative feedback x rule modulation, for slow-switching models"
   ]
  },
  {
   "cell_type": "code",
   "execution_count": null,
   "metadata": {},
   "outputs": [],
   "source": [
    "with open('/.../input_weight_rule_sel_across_models_slow.pickle', 'rb') as handle:\n",
    "    all_data_slow = pickle.load(handle)\n",
    "\n",
    "# TEST - don't accidently include fast-switching models!\n",
    "for x in all_data_slow:\n",
    "    print(x['model_name'])"
   ]
  },
  {
   "cell_type": "code",
   "execution_count": null,
   "metadata": {},
   "outputs": [],
   "source": [
    "start = time.time()\n",
    "\n",
    "data_suppfig6a = {'type': [], 'w_rew': [], 'rule_sel': []}\n",
    "\n",
    "fig, ax = plt.subplots(1, 1, figsize=[7.5, 6])\n",
    "fig.suptitle('slow switching models')\n",
    "fig.patch.set_facecolor('white')\n",
    "plt.style.use('classic')\n",
    "\n",
    "for x in all_data_slow:\n",
    "    print(x['model_name'])\n",
    "    subcg_pfc_idx = x['subcg_pfc_idx']\n",
    "    w_rew_eff = x['w_rew_eff']\n",
    "    rule_sel = x['rule_sel_unnormalized']\n",
    "    \n",
    "    for n in x['cg_idx']['pfc_edend']:\n",
    "        branch_id = (n-x['cg_idx']['pfc_edend'][0])//len(x['cg_idx']['pfc_esoma'])+1    # this is dendrite number X\n",
    "        soma_id = n-len(x['cg_idx']['pfc_esoma'])*branch_id\n",
    "        if soma_id in subcg_pfc_idx['rule1_pfc_esoma'] or soma_id in subcg_pfc_idx['rule2_pfc_esoma']:  \n",
    "            color = 'blue'\n",
    "            type = 'rule_neuron'\n",
    "        elif soma_id in subcg_pfc_idx['mix_err_rule1_pfc_esoma'] or soma_id in subcg_pfc_idx['mix_err_rule2_pfc_esoma']:    # mixed_selective_neurons_id_dend:\n",
    "            color = 'red' \n",
    "            type = 'error_x_rule_neuron'\n",
    "        elif soma_id in subcg_pfc_idx['mix_corr_rule1_pfc_esoma'] or soma_id in subcg_pfc_idx['mix_corr_rule2_pfc_esoma']:    # mixed_selective_neurons_id_dend_correct:\n",
    "            continue\n",
    "        else:\n",
    "            continue\n",
    "        data_suppfig6a['type'].append(type)\n",
    "        data_suppfig6a['w_rew'].append(w_rew_eff[1, n])\n",
    "        data_suppfig6a['rule_sel'].append(rule_sel[soma_id])\n",
    "        if np.isnan(rule_sel[soma_id]):\n",
    "            print(rule_sel[soma_id])\n",
    "        ax.scatter(x=w_rew_eff[1, n], y=rule_sel[soma_id], color=color, alpha=0.2)\n",
    "ax.set_xlabel('Input weight for the negative feedback signal', fontsize=20)\n",
    "ax.set_ylabel('Rule modulation', fontsize=20)\n",
    "make_pretty_axes(ax)\n",
    "fig.tight_layout()\n",
    "plt.show()\n",
    "\n",
    "\n",
    "\n",
    "print(time.time()-start)"
   ]
  },
  {
   "cell_type": "code",
   "execution_count": null,
   "metadata": {},
   "outputs": [],
   "source": []
  }
 ],
 "metadata": {
  "kernelspec": {
   "display_name": "my_env",
   "language": "python",
   "name": "my_env"
  },
  "language_info": {
   "codemirror_mode": {
    "name": "ipython",
    "version": 3
   },
   "file_extension": ".py",
   "mimetype": "text/x-python",
   "name": "python",
   "nbconvert_exporter": "python",
   "pygments_lexer": "ipython3",
   "version": "3.10.8"
  }
 },
 "nbformat": 4,
 "nbformat_minor": 4
}
