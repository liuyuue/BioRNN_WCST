{
 "cells": [
  {
   "cell_type": "code",
   "execution_count": 4,
   "metadata": {},
   "outputs": [
    {
     "name": "stdout",
     "output_type": "stream",
     "text": [
      "The autoreload extension is already loaded. To reload it, use:\n",
      "  %reload_ext autoreload\n"
     ]
    }
   ],
   "source": [
    "%load_ext autoreload\n",
    "%autoreload 2\n",
    "    \n",
    "import numpy as np\n",
    "import os\n",
    "import seaborn as sns\n",
    "import sys\n",
    "from functions import *\n",
    "\n",
    "colors = ['#b3e2cd', '#fdcdac']"
   ]
  },
  {
   "cell_type": "markdown",
   "metadata": {},
   "source": [
    "# Figure 7g + Supplementary Figure 11d: R^2 for conjunctive regression model, across network models"
   ]
  },
  {
   "cell_type": "code",
   "execution_count": null,
   "metadata": {
    "scrolled": true
   },
   "outputs": [],
   "source": [
    "with open('/.../processed_data/conj_coding.pickle', 'rb') as handle:\n",
    "    all_data = pickle.load(handle)\n",
    "    \n",
    "\n",
    "data_nonlinearMix = {'subtractive': {}, 'divisive_2': {}}\n",
    "\n",
    "for dend_nonlinearity in ['subtractive', 'divisive_2']:\n",
    "    print(dend_nonlinearity)\n",
    "    rsqr_conjs = []\n",
    "    rsqr_conjs_nosst = []\n",
    "    for data in all_data:\n",
    "        if data['hp']['dend_nonlinearity']==dend_nonlinearity: \n",
    "            rsqr_conjs.extend(data['rsqr_conjs'])\n",
    "            rsqr_conjs_nosst.extend(data['rsqr_conjs_nosst'])\n",
    "    y = [rsqr_conjs, rsqr_conjs_nosst]\n",
    "    colors = ['#b3e2cd', '#fdcdac']\n",
    "    fig, ax = plt.subplots(figsize=[3.5, 5])\n",
    "    ax.plot([0, 1], y, color='k', alpha=0.05, marker='o')\n",
    "    make_pretty_axes(ax)\n",
    "    ax.set_xlim([-0.2, 1.2])\n",
    "    ax.set_xticks([0, 1])\n",
    "    fig.tight_layout()\n",
    "    plt.show()\n",
    "    # fig.savefig('/home/yl4317/Documents/two_module_rnn/figs/conj_rsquare_{}.pdf'.format(dend_nonlinearity))\n",
    "\n",
    "    # statistical test\n",
    "    print(stats.ttest_ind(a=rsqr_conjs, b=rsqr_conjs_nosst, alternative='greater'))\n",
    "    print('n={}'.format(len(rsqr_conjs)))\n",
    "\n",
    "    # save source data    \n",
    "    # data_nonlinearMix[dend_nonlinearity] = {'intact': rsqr_conjs, 'silence_sst': rsqr_conjs_nosst}\n",
    "    # pd.DataFrame.from_dict(data=data_nonlinearMix[dend_nonlinearity], orient='columns').to_csv('/home/yl4317/Documents/two_module_rnn/source_data/nonlinear_mix_rsquares{}.csv'.format(dend_nonlinearity), header=False)\n",
    "    "
   ]
  },
  {
   "cell_type": "markdown",
   "metadata": {},
   "source": [
    "# Supplementary Figure 12: the prediction of the regression model before and after silencing SST units, for some example units "
   ]
  },
  {
   "cell_type": "code",
   "execution_count": null,
   "metadata": {
    "scrolled": true
   },
   "outputs": [],
   "source": [
    "with open('/.../conj_coding.pickle', 'wb') as f:\n",
    "    pickle.dump(all_data, f)\n",
    "\n",
    "data_suppfig12 = {'intact': {}, 'silenceSST': {}}\n",
    "\n",
    "neuron_ids = [9, 21, 26, 50, 55]    # pick some example unts\n",
    "\n",
    "for data in all_data:\n",
    "    print(data['model_name'])\n",
    "    if data['model_name'] != 'success_2023-05-10-14-28-42_wcst_116_sparsity0':\n",
    "        continue    # pick an example network\n",
    "    r_sqr_conjs = data['rsqr_conjs']    # r-square values for the regression model with conjunctive term\n",
    "    rsqr_conjs_nosst = data['rsqr_conjs_nosst']    # same but for when SST neurons are silenced\n",
    "    \n",
    "    predicted_activities = data['predicted_activities']    # predicted residual activity by the regression model with the conjunctive terms across all neurons. Get rid of the transient activity for the first few trials\n",
    "    residual_activities = data['residual_activities']   # actual residual activity across all neurons\n",
    "    predicted_activities_nosst = data['predicted_activities_nosst']    # same but when SST are silenced\n",
    "    residual_activities_nosst = data['residual_activities_nosst']\n",
    "    \n",
    "    # plot the prediction versus actual residual activity\n",
    "    n_neurons = predicted_activities.shape[0]\n",
    "    for n in range(n_neurons):\n",
    "        if n not in neuron_ids:\n",
    "            continue    \n",
    "        if r_sqr_conjs[n]== 0 or rsqr_conjs_nosst[n] == 0:\n",
    "            print('r-square = 0 due to inactivity of this unit')\n",
    "            continue\n",
    "        fig, ax = plt.subplots(1, 1, figsize=[10, 3])\n",
    "        fig.suptitle('Intact network, unit {}\\nR-square={}'.format(n, r_sqr_conjs[n]))\n",
    "        ax.plot(predicted_activities[n], label='predicted residual activity')\n",
    "        ax.plot(residual_activities[n], label='actual residual activity')\n",
    "        ax.legend()\n",
    "        ax.legend()\n",
    "        make_pretty_axes(ax)\n",
    "        fig.tight_layout()\n",
    "        plt.show()\n",
    "        data_suppfig12['intact'][n] = {}\n",
    "        data_suppfig12['intact'][n]['predicted'] = predicted_activities[n]\n",
    "        data_suppfig12['intact'][n]['actual'] = residual_activities[n]\n",
    "\n",
    "        \n",
    "        fig, ax = plt.subplots(1, 1, figsize=[10, 3])\n",
    "        fig.suptitle('SST silenced, unit {}\\nR-square={}'.format(n, rsqr_conjs_nosst[n]))\n",
    "        ax.plot(predicted_activities_nosst[n], label='predicted residual activity')\n",
    "        ax.plot(residual_activities_nosst[n], label='actual residual activity')\n",
    "        ax.legend()\n",
    "        ax.legend()\n",
    "        make_pretty_axes(ax)\n",
    "        fig.tight_layout()\n",
    "        plt.show()\n",
    "        data_suppfig12['silenceSST'][n] = {}\n",
    "        data_suppfig12['silenceSST'][n]['predicted'] = predicted_activities[n]\n",
    "        data_suppfig12['silenceSST'][n]['actual'] = residual_activities[n]\n",
    "\n"
   ]
  }
 ],
 "metadata": {
  "kernelspec": {
   "display_name": "my_env",
   "language": "python",
   "name": "my_env"
  },
  "language_info": {
   "codemirror_mode": {
    "name": "ipython",
    "version": 3
   },
   "file_extension": ".py",
   "mimetype": "text/x-python",
   "name": "python",
   "nbconvert_exporter": "python",
   "pygments_lexer": "ipython3",
   "version": "3.10.8"
  }
 },
 "nbformat": 4,
 "nbformat_minor": 4
}
